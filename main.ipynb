{
 "cells": [
  {
   "cell_type": "code",
   "execution_count": 1,
   "metadata": {},
   "outputs": [],
   "source": [
    "from data_preprocessing import SO_Data_preprocess, Openso_Preprocess\n",
    "from utils.tools import fiilna, Save_Part_Data, Plot_History_Trend\n",
    "from Indicator_Construction import Foward_Indicator, Trend_Table, Historcial_Table,Validation_Indicator_Performance\n",
    "import pandas as pd \n",
    "import numpy as np"
   ]
  },
  {
   "cell_type": "code",
   "execution_count": 2,
   "metadata": {},
   "outputs": [],
   "source": [
    "ABC_class='A' # A or B or C\n",
    "PG_class=['ECG','IPSG','IDSG'] #IIOT->4['ISG','IAG','ICWG','ESG'] EIOT->3 ['ECG', 'IPSG','IDSG']\n",
    "Region_class='CN' # CN:China (CKH是HUB廠), TW:Taiwan, EU , US\n",
    "start_date=\"2018-01-01\"\n",
    "end_date=\"2024-08-01\"\n",
    "full_date_range = pd.date_range(start=start_date,end=end_date,freq='MS').normalize()   \n",
    "#根據上述條件建立sql\n",
    "Constrain_query=\"ABC_INDICATOR.str.startswith(@ABC_class)  and PG in @PG_class and SHIP_PLANT.str.startswith(@Region_class) and  year_month>=@start_date and year_month<=@end_date\"\n"
   ]
  },
  {
   "cell_type": "code",
   "execution_count": 3,
   "metadata": {},
   "outputs": [
    {
     "data": {
      "text/html": [
       "<div>\n",
       "<style scoped>\n",
       "    .dataframe tbody tr th:only-of-type {\n",
       "        vertical-align: middle;\n",
       "    }\n",
       "\n",
       "    .dataframe tbody tr th {\n",
       "        vertical-align: top;\n",
       "    }\n",
       "\n",
       "    .dataframe thead th {\n",
       "        text-align: right;\n",
       "    }\n",
       "</style>\n",
       "<table border=\"1\" class=\"dataframe\">\n",
       "  <thead>\n",
       "    <tr style=\"text-align: right;\">\n",
       "      <th></th>\n",
       "      <th>COMPANY_ID</th>\n",
       "      <th>year_month</th>\n",
       "      <th>PD</th>\n",
       "      <th>MODEL</th>\n",
       "      <th>PART_NO</th>\n",
       "      <th>ORDER_QTY</th>\n",
       "    </tr>\n",
       "  </thead>\n",
       "  <tbody>\n",
       "    <tr>\n",
       "      <th>0</th>\n",
       "      <td>C400315</td>\n",
       "      <td>2019-05-01</td>\n",
       "      <td>Industrial Storage</td>\n",
       "      <td>SQF-S25 830</td>\n",
       "      <td>SQF-S25M8-256G-SAC</td>\n",
       "      <td>30</td>\n",
       "    </tr>\n",
       "    <tr>\n",
       "      <th>1</th>\n",
       "      <td>C210568</td>\n",
       "      <td>2018-12-01</td>\n",
       "      <td>Industrial Storage</td>\n",
       "      <td>SQF-S25 830</td>\n",
       "      <td>SQF-S25M8-256G-SAC</td>\n",
       "      <td>1</td>\n",
       "    </tr>\n",
       "    <tr>\n",
       "      <th>2</th>\n",
       "      <td>C190199</td>\n",
       "      <td>2019-12-01</td>\n",
       "      <td>Industrial Storage</td>\n",
       "      <td>SQF-S25 830</td>\n",
       "      <td>SQF-S25M8-256G-SAC</td>\n",
       "      <td>2</td>\n",
       "    </tr>\n",
       "    <tr>\n",
       "      <th>3</th>\n",
       "      <td>C403906</td>\n",
       "      <td>2020-07-01</td>\n",
       "      <td>Industrial Storage</td>\n",
       "      <td>SQF-S25 830</td>\n",
       "      <td>SQF-S25M8-256G-SAC</td>\n",
       "      <td>1</td>\n",
       "    </tr>\n",
       "    <tr>\n",
       "      <th>4</th>\n",
       "      <td>C400490</td>\n",
       "      <td>2022-05-01</td>\n",
       "      <td>Industrial Storage</td>\n",
       "      <td>SQF-S25 830</td>\n",
       "      <td>SQF-S25M8-256G-SAC</td>\n",
       "      <td>4</td>\n",
       "    </tr>\n",
       "  </tbody>\n",
       "</table>\n",
       "</div>"
      ],
      "text/plain": [
       "  COMPANY_ID year_month                  PD        MODEL             PART_NO  \\\n",
       "0    C400315 2019-05-01  Industrial Storage  SQF-S25 830  SQF-S25M8-256G-SAC   \n",
       "1    C210568 2018-12-01  Industrial Storage  SQF-S25 830  SQF-S25M8-256G-SAC   \n",
       "2    C190199 2019-12-01  Industrial Storage  SQF-S25 830  SQF-S25M8-256G-SAC   \n",
       "3    C403906 2020-07-01  Industrial Storage  SQF-S25 830  SQF-S25M8-256G-SAC   \n",
       "4    C400490 2022-05-01  Industrial Storage  SQF-S25 830  SQF-S25M8-256G-SAC   \n",
       "\n",
       "   ORDER_QTY  \n",
       "0         30  \n",
       "1          1  \n",
       "2          2  \n",
       "3          1  \n",
       "4          4  "
      ]
     },
     "execution_count": 3,
     "metadata": {},
     "output_type": "execute_result"
    }
   ],
   "source": [
    "SO_Data=SO_Data_preprocess()\n",
    "Used_Data=SO_Data.query(Constrain_query).reset_index(drop=True)\n",
    "Used_Data=Used_Data[['COMPANY_ID','year_month','PD','MODEL','PART_NO','ORDER_QTY']]\n",
    "Used_Data.head()"
   ]
  },
  {
   "cell_type": "code",
   "execution_count": 4,
   "metadata": {},
   "outputs": [
    {
     "data": {
      "text/plain": [
       "array(['Industrial Storage', 'AIMB', 'EBC', 'ESBC', 'Industrial Wireless'],\n",
       "      dtype=object)"
      ]
     },
     "execution_count": 4,
     "metadata": {},
     "output_type": "execute_result"
    }
   ],
   "source": [
    "Used_Data.PD.unique()"
   ]
  },
  {
   "cell_type": "code",
   "execution_count": 5,
   "metadata": {},
   "outputs": [
    {
     "data": {
      "text/html": [
       "<div>\n",
       "<style scoped>\n",
       "    .dataframe tbody tr th:only-of-type {\n",
       "        vertical-align: middle;\n",
       "    }\n",
       "\n",
       "    .dataframe tbody tr th {\n",
       "        vertical-align: top;\n",
       "    }\n",
       "\n",
       "    .dataframe thead th {\n",
       "        text-align: right;\n",
       "    }\n",
       "</style>\n",
       "<table border=\"1\" class=\"dataframe\">\n",
       "  <thead>\n",
       "    <tr style=\"text-align: right;\">\n",
       "      <th></th>\n",
       "      <th>PD</th>\n",
       "      <th>ORDER_QTY</th>\n",
       "    </tr>\n",
       "  </thead>\n",
       "  <tbody>\n",
       "    <tr>\n",
       "      <th>0</th>\n",
       "      <td>AIMB</td>\n",
       "      <td>69434</td>\n",
       "    </tr>\n",
       "    <tr>\n",
       "      <th>1</th>\n",
       "      <td>EBC</td>\n",
       "      <td>18392</td>\n",
       "    </tr>\n",
       "    <tr>\n",
       "      <th>2</th>\n",
       "      <td>ESBC</td>\n",
       "      <td>17504</td>\n",
       "    </tr>\n",
       "    <tr>\n",
       "      <th>3</th>\n",
       "      <td>Industrial Storage</td>\n",
       "      <td>46400</td>\n",
       "    </tr>\n",
       "    <tr>\n",
       "      <th>4</th>\n",
       "      <td>Industrial Wireless</td>\n",
       "      <td>6</td>\n",
       "    </tr>\n",
       "  </tbody>\n",
       "</table>\n",
       "</div>"
      ],
      "text/plain": [
       "                    PD  ORDER_QTY\n",
       "0                 AIMB      69434\n",
       "1                  EBC      18392\n",
       "2                 ESBC      17504\n",
       "3   Industrial Storage      46400\n",
       "4  Industrial Wireless          6"
      ]
     },
     "execution_count": 5,
     "metadata": {},
     "output_type": "execute_result"
    }
   ],
   "source": [
    "Used_Data.groupby(['PD'])['ORDER_QTY'].sum().reset_index()"
   ]
  },
  {
   "cell_type": "code",
   "execution_count": 6,
   "metadata": {},
   "outputs": [],
   "source": [
    "Openso_1=Openso_Preprocess(version_year=1).query(Constrain_query).reset_index(drop=True)\n",
    "Openso_2=Openso_Preprocess(version_year=2).query(Constrain_query).reset_index(drop=True)\n",
    "Openso_3=Openso_Preprocess(version_year=3).query(Constrain_query).reset_index(drop=True)"
   ]
  },
  {
   "cell_type": "code",
   "execution_count": 7,
   "metadata": {},
   "outputs": [
    {
     "data": {
      "text/plain": [
       "array(['AIMB-505G2-00A1E', 'AIMB-215D-S6B2', 'AIMB-R431F-21A1E'],\n",
       "      dtype=object)"
      ]
     },
     "execution_count": 7,
     "metadata": {},
     "output_type": "execute_result"
    }
   ],
   "source": [
    "PD_name='AIMB' #Panel PC AIMB\n",
    "PD_Material=(Used_Data.query('PD==@PD_name').groupby(['PART_NO'])['ORDER_QTY'].sum()).nlargest(50).reset_index()\n",
    "PD_Material.PART_NO.unique()"
   ]
  },
  {
   "cell_type": "code",
   "execution_count": 8,
   "metadata": {},
   "outputs": [],
   "source": [
    "# 檔案存取格式\n",
    "if 'ECG' in PG_class:\n",
    "    PG='EIOT'\n",
    "else:\n",
    "    PG='IIOT'"
   ]
  },
  {
   "cell_type": "code",
   "execution_count": 9,
   "metadata": {},
   "outputs": [],
   "source": [
    "file_path = r'C:\\Users\\mt.yang\\Desktop\\SCM_Indicator\\EIOT_AB_AIMB_EBC(B).csv' "
   ]
  },
  {
   "cell_type": "code",
   "execution_count": 10,
   "metadata": {},
   "outputs": [
    {
     "name": "stderr",
     "output_type": "stream",
     "text": [
      "d:\\SCM 指標\\Indicator_Construction.py:76: RuntimeWarning: invalid value encountered in scalar divide\n",
      "  tp_rate=(tp_num/pos_indicator)*100\n"
     ]
    }
   ],
   "source": [
    "total_num,correct_num, part_number=0, 0, 0\n",
    "total_up_num, total_down_num, total_tp_num, total_tn_num= 0,0,0,0\n",
    "plot=False\n",
    "# 料號日期條件\n",
    "Material_sql=' PART_NO==@PART_NO_name '\n",
    "date_column='year_month'\n",
    "\n",
    "for PART_NO_name in PD_Material.PART_NO.unique():\n",
    "    \n",
    "    PART_NO_SO=Used_Data.query(Material_sql).groupby([date_column])['ORDER_QTY'].sum().reset_index()\n",
    "    #open part\n",
    "    PART_NO_Openso_1=Openso_1.query(Material_sql).groupby([date_column])['OPEN_QTY'].sum().reset_index()\n",
    "    PART_NO_Openso_2=Openso_2.query(Material_sql).groupby([date_column])['OPEN_QTY'].sum().reset_index()\n",
    "    PART_NO_Openso_3=Openso_3.query(Material_sql).groupby([date_column])['OPEN_QTY'].sum().reset_index()\n",
    "    '''\n",
    "    填補so & openso\n",
    "    '''\n",
    "    PART_NO_SO=fiilna(PART_NO_SO, full_date_range , QTY_name= 'ORDER_QTY' )\n",
    "    PART_NO_Openso_1=fiilna(PART_NO_Openso_1, full_date_range , QTY_name= 'OPEN_QTY' )\n",
    "    PART_NO_Openso_2=fiilna(PART_NO_Openso_2, full_date_range , QTY_name= 'OPEN_QTY' )\n",
    "    PART_NO_Openso_3=fiilna(PART_NO_Openso_3, full_date_range , QTY_name= 'OPEN_QTY' )\n",
    "    #用於驗證兩個月後需求量基準值\n",
    "    PART_NO_SO['2_month_avg'] = PART_NO_SO['ORDER_QTY'].rolling(window=2).mean()\n",
    "\n",
    "    #計算兩種backlog變化率的計算\n",
    "    Indicator= Foward_Indicator(PART_NO_Openso_1, PART_NO_Openso_2, PART_NO_Openso_3 )\n",
    "    Trend_Indicator =Trend_Table(Indicator)\n",
    "    Historical_info=Historcial_Table(PART_NO_SO)\n",
    "\n",
    "    Evaluate_Table= Validation_Indicator_Performance(PART_NO_name, Trend_Indicator, Historical_info)\n",
    "\n",
    "    Save_Part_Data(file_path, PART_NO_SO,Trend_Indicator, PG, Region_class, PD_name, PART_NO_name ,save_file=None)\n",
    "\n",
    "    # 總數統計\n",
    "    total_num+=Evaluate_Table['Total_num'].iloc[0]\n",
    "    correct_num+=(Evaluate_Table['TP_num']+Evaluate_Table['TN_num']).iloc[0]\n",
    "    part_number+=1 # 料號總數統計\n",
    "    total_up_num+=Evaluate_Table['Upward_num'].iloc[0]\n",
    "    total_down_num+=Evaluate_Table['Downward_num'].iloc[0]\n",
    "    total_tp_num+=Evaluate_Table['TP_num'].iloc[0]\n",
    "    total_tn_num+=Evaluate_Table['TN_num'].iloc[0]\n",
    "    '''\n",
    "    畫指標和so圖 \n",
    "    '''\n",
    "    if plot:\n",
    "        Plot_History_Trend(PART_NO_name, PART_NO_Openso_1, PART_NO_Openso_2,  PART_NO_SO, Trend_Indicator )\n",
    "        print(Evaluate_Table)"
   ]
  },
  {
   "cell_type": "code",
   "execution_count": 11,
   "metadata": {},
   "outputs": [
    {
     "name": "stdout",
     "output_type": "stream",
     "text": [
      "Final result\n",
      "料號總數 3\n",
      "所有指標總數: 27\n",
      "向上指標總數 15\n",
      "向下指標總數 12\n",
      "TP rate 60.0\n",
      "TN rate 91.66666666666666\n",
      "Total 此PD勝率 74.07407407407408\n"
     ]
    }
   ],
   "source": [
    "print(\"Final result\")\n",
    "print('料號總數', part_number)\n",
    "print('所有指標總數:',total_num)\n",
    "print('向上指標總數', total_up_num)\n",
    "print('向下指標總數', total_down_num)\n",
    "print('TP rate', (total_tp_num/total_up_num)*100)\n",
    "print('TN rate', (total_tn_num/total_down_num)*100)\n",
    "print('Total 此PD勝率', (correct_num/total_num)*100)"
   ]
  }
 ],
 "metadata": {
  "kernelspec": {
   "display_name": "SCMFCST",
   "language": "python",
   "name": "python3"
  },
  "language_info": {
   "codemirror_mode": {
    "name": "ipython",
    "version": 3
   },
   "file_extension": ".py",
   "mimetype": "text/x-python",
   "name": "python",
   "nbconvert_exporter": "python",
   "pygments_lexer": "ipython3",
   "version": "3.8.3"
  }
 },
 "nbformat": 4,
 "nbformat_minor": 2
}
